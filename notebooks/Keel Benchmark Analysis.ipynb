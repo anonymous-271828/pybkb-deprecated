{
 "cells": [
  {
   "cell_type": "code",
   "execution_count": 1,
   "id": "d3d0c6d2",
   "metadata": {},
   "outputs": [],
   "source": [
    "import os\n",
    "import compress_pickle\n",
    "import ipywidgets as widgets\n",
    "import networkx as nx\n",
    "import matplotlib.pyplot as plt\n",
    "\n",
    "from pybkb.bkb import BKB\n",
    "from pybkb.utils.cytoscape import render"
   ]
  },
  {
   "cell_type": "code",
   "execution_count": 2,
   "id": "f2b51d46",
   "metadata": {},
   "outputs": [],
   "source": [
    "def get_available_datasets(results_path):\n",
    "    bkb_res = []\n",
    "    bn_res = []\n",
    "    # Get BKB results\n",
    "    for dirname in os.listdir(os.path.join(results_path, 'bkb')):\n",
    "        bkb_res.append(dirname)\n",
    "    # Get BN results\n",
    "    for dirname in os.listdir(os.path.join(results_path, 'bn')):\n",
    "        bn_res.append(dirname)\n",
    "    return bkb_res, bn_res"
   ]
  },
  {
   "cell_type": "markdown",
   "id": "003fdf33",
   "metadata": {},
   "source": [
    "## Select BKB and BN results that you would like to analyze based on a keel dataset.\n",
    "The results depicted in the paper are hosted on Zenodo [here](https://zenodo.org/record/6577348#.Yp3kr-xBxPY). Download this zip file to your local machine and unzip. Then specify it's location below."
   ]
  },
  {
   "cell_type": "code",
   "execution_count": 3,
   "id": "907afeed",
   "metadata": {},
   "outputs": [],
   "source": [
    "# Specify the location where you have unzipped the results file \n",
    "RESULTS_PATH = 'path/to/results'"
   ]
  },
  {
   "cell_type": "markdown",
   "id": "80907fc4",
   "metadata": {},
   "source": [
    "### Code below will build a jupyter dropdown widget for ease of use.\n",
    "**Note:** If the dropdown does not display install the ipywidgets extension with:\n",
    "``` bash\n",
    "jupyter nbextension enable --py widgetsnbextension\n",
    "```\n",
    "and restart the jupyter notebook session. You can also view this [stack overflow article](https://stackoverflow.com/questions/36351109/ipython-notebook-ipywidgets-does-not-show) for further troubleshooting."
   ]
  },
  {
   "cell_type": "code",
   "execution_count": 4,
   "id": "963b1255",
   "metadata": {},
   "outputs": [
    {
     "data": {
      "application/vnd.jupyter.widget-view+json": {
       "model_id": "984ff5c051f0445382ae035d7c4ac4e6",
       "version_major": 2,
       "version_minor": 0
      },
      "text/plain": [
       "Dropdown(description='BKB Results Options:', options=('australian-standard_classification-no_missing_values', …"
      ]
     },
     "metadata": {},
     "output_type": "display_data"
    },
    {
     "data": {
      "application/vnd.jupyter.widget-view+json": {
       "model_id": "bc323b211f424934ba4c9a91f69c337c",
       "version_major": 2,
       "version_minor": 0
      },
      "text/plain": [
       "Dropdown(description='BN Results Options:', options=('australian-standard_classification-no_missing_values', '…"
      ]
     },
     "metadata": {},
     "output_type": "display_data"
    }
   ],
   "source": [
    "bkb_res_options, bn_res_options = get_available_datasets(RESULTS_PATH)\n",
    "\n",
    "bkb = widgets.Dropdown(\n",
    "    options=bkb_res_options,\n",
    "    description='BKB Results Options:',\n",
    ")\n",
    "\n",
    "bn = widgets.Dropdown(\n",
    "    options=bn_res_options,\n",
    "    description='BN Results Options:',\n",
    ")\n",
    "\n",
    "\n",
    "display(bkb, bn)"
   ]
  },
  {
   "cell_type": "markdown",
   "id": "23649362",
   "metadata": {},
   "source": [
    "## BKB Graph with Sources Hidden"
   ]
  },
  {
   "cell_type": "code",
   "execution_count": 5,
   "id": "87de9129",
   "metadata": {},
   "outputs": [],
   "source": [
    "bkb_path = os.path.join(RESULTS_PATH, 'bkb', bkb.get_interact_value(), 'learned.bkb')\n",
    "learned_bkb = BKB.load(filepath=bkb_path)"
   ]
  },
  {
   "cell_type": "code",
   "execution_count": 6,
   "id": "2f0dc8c0",
   "metadata": {},
   "outputs": [
    {
     "data": {
      "application/vnd.jupyter.widget-view+json": {
       "model_id": "ca35a94e099c4dcaa49d48c8b859d16e",
       "version_major": 2,
       "version_minor": 0
      },
      "text/plain": [
       "CytoscapeWidget(cytoscape_layout={'name': 'dagre', 'nodeSpacing': 10, 'edgeLengthVal': 10}, cytoscape_style=[{…"
      ]
     },
     "metadata": {},
     "output_type": "display_data"
    }
   ],
   "source": [
    "render(learned_bkb, hide_sources=True)"
   ]
  },
  {
   "cell_type": "markdown",
   "id": "73fef1c9",
   "metadata": {},
   "source": [
    "## BKB Random Variable Relations"
   ]
  },
  {
   "cell_type": "code",
   "execution_count": 7,
   "id": "567f7372",
   "metadata": {},
   "outputs": [
    {
     "data": {
      "application/vnd.jupyter.widget-view+json": {
       "model_id": "ce01eccfee914b8b8a31f7a9cbf359ff",
       "version_major": 2,
       "version_minor": 0
      },
      "text/plain": [
       "CytoscapeWidget(cytoscape_layout={'name': 'dagre', 'nodeSpacing': 10, 'edgeLengthVal': 10}, cytoscape_style=[{…"
      ]
     },
     "metadata": {},
     "output_type": "display_data"
    }
   ],
   "source": [
    "render(learned_bkb, hide_sources=True, rv_only=True)"
   ]
  },
  {
   "cell_type": "markdown",
   "id": "414d42be",
   "metadata": {},
   "source": [
    "## Associated BN Structure"
   ]
  },
  {
   "cell_type": "code",
   "execution_count": 8,
   "id": "7097e20d",
   "metadata": {},
   "outputs": [
    {
     "data": {
      "image/png": "[encoded data removed]",
      "text/plain": [
       "<Figure size 432x288 with 1 Axes>"
      ]
     },
     "metadata": {},
     "output_type": "display_data"
    }
   ],
   "source": [
    "bn_path = os.path.join(RESULTS_PATH, 'bn', bkb.get_interact_value(), 'learned.bn')\n",
    "with open(bn_path, 'rb') as f_:\n",
    "    learned_bn = compress_pickle.load(f_, compression='lz4')\n",
    "learned_bn.plot(abbrev=False)"
   ]
  }
 ],
 "metadata": {
  "kernelspec": {
   "display_name": "env_test",
   "language": "python",
   "name": "env_test"
  },
  "language_info": {
   "codemirror_mode": {
    "name": "ipython",
    "version": 3
   },
   "file_extension": ".py",
   "mimetype": "text/x-python",
   "name": "python",
   "nbconvert_exporter": "python",
   "pygments_lexer": "ipython3",
   "version": "3.8.4"
  }
 },
 "nbformat": 4,
 "nbformat_minor": 5
}

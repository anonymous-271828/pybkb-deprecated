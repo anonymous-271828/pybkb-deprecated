{
 "cells": [
  {
   "cell_type": "markdown",
   "id": "2515d1f8",
   "metadata": {},
   "source": [
    "# Welcome to the BKB Basics Tutorial in Python!\n",
    "In this tutorial we will learn how to:\n",
    "\n",
    "1. Properly import PyBKB modules\n",
    "1. Load/Save BKBs.\n",
    "1. Build custom BKBs.\n",
    "1. Graph BKBs."
   ]
  },
  {
   "cell_type": "markdown",
   "id": "3e7b2765",
   "metadata": {},
   "source": [
    "## Import Statements\n",
    "There are many different modules for doing different things with BKBs and in this tutorial we will focus on using the basic BKB API module to manipulate BKB objects as well as an S-node Object for adding S-nodes into your BKBs. The following import statements are the basic ones you'll need:"
   ]
  },
  {
   "cell_type": "code",
   "execution_count": 2,
   "id": "1adbd62b",
   "metadata": {},
   "outputs": [],
   "source": [
    "# Imports the BKB object\n",
    "from pybkb.bkb import BKB\n",
    "from pybkb.utils.cytoscape import render"
   ]
  },
  {
   "cell_type": "markdown",
   "id": "f21015cb",
   "metadata": {},
   "source": [
    "## Load and Save a BKB\n",
    "You will find a couple sample bkbs saved in the /examples folder of the repo which can be loaded and saved at your desire. *Note: The BKB I/O process has changed protocols over time and therefore if one protocol doesn't work than try another one.*\n",
    "\n",
    "### Protocol 1: From a TXT type file"
   ]
  },
  {
   "cell_type": "code",
   "execution_count": 3,
   "id": "221fe004",
   "metadata": {},
   "outputs": [
    {
     "data": {
      "application/vnd.jupyter.widget-view+json": {
       "model_id": "4debb9e0761c4fa5a36ccd7031e41db7",
       "version_major": 2,
       "version_minor": 0
      },
      "text/plain": [
       "CytoscapeWidget(cytoscape_layout={'name': 'dagre', 'nodeSpacing': 10, 'edgeLengthVal': 10}, cytoscape_style=[{…"
      ]
     },
     "metadata": {},
     "output_type": "display_data"
    }
   ],
   "source": [
    "bkb = BKB.load_legacy('../examples/aquatic_eco.bkb', use_pickle=False, compress=False)\n",
    "render(bkb)"
   ]
  },
  {
   "cell_type": "markdown",
   "id": "b9008af8",
   "metadata": {},
   "source": [
    "If you look at the source code for the aquatic_eco.bkb you will see that it is written in a text file type format. Therefore, it should be loaded in the manner above.\n",
    "\n",
    "### Protocol 2: From a Binary-type File"
   ]
  },
  {
   "cell_type": "code",
   "execution_count": 4,
   "id": "3896581e",
   "metadata": {},
   "outputs": [
    {
     "data": {
      "application/vnd.jupyter.widget-view+json": {
       "model_id": "efadab3ef755464fb71d36dd41d4db94",
       "version_major": 2,
       "version_minor": 0
      },
      "text/plain": [
       "CytoscapeWidget(cytoscape_layout={'name': 'dagre', 'nodeSpacing': 10, 'edgeLengthVal': 10}, cytoscape_style=[{…"
      ]
     },
     "metadata": {},
     "output_type": "display_data"
    }
   ],
   "source": [
    "bkb = BKB.load_legacy('../examples/aquatic_eco_binary.bkb', use_pickle=True, compress=True)\n",
    "render(bkb)"
   ]
  },
  {
   "cell_type": "markdown",
   "id": "72279e37",
   "metadata": {},
   "source": [
    "**Make Note:** In this protocol the *load* function will actually return the loaded BKB object unlike the txt file protocol that modifies the BKBs internal structure. \n",
    "\n",
    "## Building Custom BKBs\n",
    "In this portion of the tutorial we will focus on building a BKB from scratch and leveraging the BKB API to make *somewhat* quick work of this. Let's build a BKB with 2 Random Variables, $A$, $B$ each having two states, $a_1$, $a_2$, $b_1$, $b_2$. Then let's put some random S-nodes between instantations and form a nice little BKB."
   ]
  },
  {
   "cell_type": "code",
   "execution_count": 5,
   "id": "6b472067",
   "metadata": {},
   "outputs": [],
   "source": [
    "# Initialize a new BKB.\n",
    "bkb = BKB()"
   ]
  },
  {
   "cell_type": "code",
   "execution_count": 6,
   "id": "642c4f13",
   "metadata": {},
   "outputs": [],
   "source": [
    "# First add the I-nodes to the BKB\n",
    "bkb.add_inode('A', 'a1')\n",
    "bkb.add_inode('A', 'a2')\n",
    "bkb.add_inode('B', 'b1')\n",
    "bkb.add_inode('B', 'b2')"
   ]
  },
  {
   "cell_type": "markdown",
   "id": "d9f8892a",
   "metadata": {},
   "source": [
    "Now let's add some S-nodes."
   ]
  },
  {
   "cell_type": "code",
   "execution_count": 7,
   "id": "43ae54c9",
   "metadata": {},
   "outputs": [],
   "source": [
    "\n",
    "# Create an S-node from A = a1 -> B = b1 with a probability of 0.45\n",
    "snode_1 = bkb.add_snode('B', 'b1', 0.45, [('A', 'a1')])\n",
    "\n",
    "# Create an S-node from A = a1 -> B = b2 with a probability of 0.55\n",
    "snode_2 = bkb.add_snode('B', 'b2', 0.55, [('A', 'a1')])\n",
    "\n",
    "# Create an S-node from A = a2 -> B = b2 with a probability of 0.2\n",
    "snode_3 = bkb.add_snode('B', 'b2', 0.2, [('A', 'a2')])\n",
    "\n",
    "# Create prior S-nodes on A=a1 and A=a2\n",
    "snode_4 = bkb.add_snode('A', 'a1', 0.1)\n",
    "snode_5 = bkb.add_snode('A', 'a2', 0.9)\n"
   ]
  },
  {
   "cell_type": "code",
   "execution_count": 8,
   "id": "bdfd3ab0",
   "metadata": {},
   "outputs": [
    {
     "data": {
      "application/vnd.jupyter.widget-view+json": {
       "model_id": "2309f0dc9f8e4ce2bb9f3b383e31c9df",
       "version_major": 2,
       "version_minor": 0
      },
      "text/plain": [
       "CytoscapeWidget(cytoscape_layout={'name': 'dagre', 'nodeSpacing': 10, 'edgeLengthVal': 10}, cytoscape_style=[{…"
      ]
     },
     "metadata": {},
     "output_type": "display_data"
    }
   ],
   "source": [
    "render(bkb)"
   ]
  },
  {
   "cell_type": "markdown",
   "id": "1eab1237",
   "metadata": {},
   "source": [
    "Will add a more detail section of BKB graphing but you should see the basics outlined above."
   ]
  }
 ],
 "metadata": {
  "kernelspec": {
   "display_name": "pybkb_venv",
   "language": "python",
   "name": "pybkb_venv"
  },
  "language_info": {
   "codemirror_mode": {
    "name": "ipython",
    "version": 3
   },
   "file_extension": ".py",
   "mimetype": "text/x-python",
   "name": "python",
   "nbconvert_exporter": "python",
   "pygments_lexer": "ipython3",
   "version": "3.8.4"
  }
 },
 "nbformat": 4,
 "nbformat_minor": 5
}

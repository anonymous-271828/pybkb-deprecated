{
 "cells": [
  {
   "cell_type": "code",
   "execution_count": 1,
   "id": "751a70f2",
   "metadata": {},
   "outputs": [],
   "source": [
    "from pybkb.bkb import BKB\n",
    "from pybkb.fusion import fuse\n",
    "from pybkb.utils.cytoscape import render"
   ]
  },
  {
   "cell_type": "code",
   "execution_count": 10,
   "id": "3e9bf5e4",
   "metadata": {},
   "outputs": [],
   "source": [
    "# Here are all the Pirate BKBs\n",
    "bkb_paths = [\n",
    "    '../pybkb/bkbs/fisherman.bkb',\n",
    "    '../pybkb/bkbs/illegal_dumping_ev.bkb',\n",
    "    '../pybkb/bkbs/illegal_fishing_ev.bkb',\n",
    "    '../pybkb/bkbs/pirate.bkb',\n",
    "    '../pybkb/bkbs/tsunami_ev.bkb',\n",
    "]"
   ]
  },
  {
   "cell_type": "code",
   "execution_count": 11,
   "id": "3ad36ce9",
   "metadata": {},
   "outputs": [],
   "source": [
    "# Load in the BKFs\n",
    "bkfs = [BKB.load(path) for path in bkb_paths]"
   ]
  },
  {
   "cell_type": "code",
   "execution_count": 12,
   "id": "5311cb73",
   "metadata": {},
   "outputs": [],
   "source": [
    "# Set reliabilities\n",
    "reliabilities = [1 for _ in range(len(bkfs))]"
   ]
  },
  {
   "cell_type": "code",
   "execution_count": 13,
   "id": "23e2808a",
   "metadata": {},
   "outputs": [],
   "source": [
    "# First we will just fuse and display\n",
    "fused_bkb = fuse(bkfs, reliabilities, collapse=False)"
   ]
  },
  {
   "cell_type": "code",
   "execution_count": 14,
   "id": "b6ee32af",
   "metadata": {
    "scrolled": false
   },
   "outputs": [
    {
     "data": {
      "application/vnd.jupyter.widget-view+json": {
       "model_id": "8ec45572f2134f74a0b3815692aef8b4",
       "version_major": 2,
       "version_minor": 0
      },
      "text/plain": [
       "CytoscapeWidget(cytoscape_layout={'name': 'dagre', 'nodeSpacing': 10, 'edgeLengthVal': 10}, cytoscape_style=[{…"
      ]
     },
     "metadata": {},
     "output_type": "display_data"
    }
   ],
   "source": [
    "render(fused_bkb)"
   ]
  },
  {
   "cell_type": "code",
   "execution_count": 15,
   "id": "57615e4f",
   "metadata": {},
   "outputs": [],
   "source": [
    "# Second we will fuse and collapse.\n",
    "col_bkb = fuse(bkfs, reliabilities, collapse=True)"
   ]
  },
  {
   "cell_type": "code",
   "execution_count": 16,
   "id": "793e14d4",
   "metadata": {},
   "outputs": [
    {
     "data": {
      "application/vnd.jupyter.widget-view+json": {
       "model_id": "f629f3c9551249759ca11c8de75fbe18",
       "version_major": 2,
       "version_minor": 0
      },
      "text/plain": [
       "CytoscapeWidget(cytoscape_layout={'name': 'dagre', 'nodeSpacing': 10, 'edgeLengthVal': 10}, cytoscape_style=[{…"
      ]
     },
     "metadata": {},
     "output_type": "display_data"
    }
   ],
   "source": [
    "render(col_bkb)"
   ]
  },
  {
   "cell_type": "code",
   "execution_count": 17,
   "id": "432e2316",
   "metadata": {},
   "outputs": [],
   "source": [
    "# Goldfish example\n",
    "bkfs = [BKB.load('../pybkb/bkbs/goldfish.bkb')]*10\n",
    "reliabilities = [1 for _ in range(len(bkfs))]\n",
    "srcs = [str(i) for i in range(len(bkfs))]"
   ]
  },
  {
   "cell_type": "code",
   "execution_count": 18,
   "id": "09a99495",
   "metadata": {},
   "outputs": [],
   "source": [
    "col_bkb = fuse(bkfs, reliabilities, srcs, collapse=True)"
   ]
  },
  {
   "cell_type": "code",
   "execution_count": 19,
   "id": "8c4c7fa1",
   "metadata": {},
   "outputs": [
    {
     "data": {
      "application/vnd.jupyter.widget-view+json": {
       "model_id": "b8567c8da8444263a6c999d1b8cc1b7a",
       "version_major": 2,
       "version_minor": 0
      },
      "text/plain": [
       "CytoscapeWidget(cytoscape_layout={'name': 'dagre', 'nodeSpacing': 10, 'edgeLengthVal': 10}, cytoscape_style=[{…"
      ]
     },
     "metadata": {},
     "output_type": "display_data"
    }
   ],
   "source": [
    "# You can also hide sources for easier viewing.\n",
    "render(col_bkb, hide_sources=True)"
   ]
  },
  {
   "cell_type": "code",
   "execution_count": null,
   "id": "265df9cd",
   "metadata": {},
   "outputs": [],
   "source": []
  }
 ],
 "metadata": {
  "kernelspec": {
   "display_name": "pybkb_venv",
   "language": "python",
   "name": "pybkb_venv"
  },
  "language_info": {
   "codemirror_mode": {
    "name": "ipython",
    "version": 3
   },
   "file_extension": ".py",
   "mimetype": "text/x-python",
   "name": "python",
   "nbconvert_exporter": "python",
   "pygments_lexer": "ipython3",
   "version": "3.8.4"
  }
 },
 "nbformat": 4,
 "nbformat_minor": 5
}

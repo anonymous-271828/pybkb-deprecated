{
 "cells": [
  {
   "cell_type": "code",
   "execution_count": 1,
   "id": "92935d4c",
   "metadata": {},
   "outputs": [
    {
     "name": "stdout",
     "output_type": "stream",
     "text": [
      "C ADTree implementation unavailable.\n",
      "No module named 'adtree'\n"
     ]
    }
   ],
   "source": [
    "import pickle\n",
    "\n",
    "from pybkb.learn import BKBLearner\n",
    "from pybkb.utils.cytoscape import render"
   ]
  },
  {
   "cell_type": "markdown",
   "id": "9ee18b6a",
   "metadata": {},
   "source": [
    "Here we shall study a very simple sprinkler example derived from the common Bayesian Network literature. First we shall load the sprinkler data file present in the PyBKB repository and it has already been formatted to fit our structure learning needs. "
   ]
  },
  {
   "cell_type": "code",
   "execution_count": 2,
   "id": "160081d0",
   "metadata": {},
   "outputs": [],
   "source": [
    "#Load the data\n",
    "with open('../data/sprinkler.dat', 'rb') as data_file:\n",
    "    data, feature_states, srcs = pickle.load(data_file)"
   ]
  },
  {
   "cell_type": "markdown",
   "id": "97f525fc",
   "metadata": {},
   "source": [
    "Now we shall fit the data using Conditional Entropy MDL as outlined in our paper using a GOBNILP backend to learn the underlying DAGs associated with each data instance Bayesian Knowledge Fragment."
   ]
  },
  {
   "cell_type": "code",
   "execution_count": 3,
   "id": "3e209770",
   "metadata": {},
   "outputs": [],
   "source": [
    "# Initialize learner\n",
    "learner = BKBLearner('gobnilp', 'mdl_ent')"
   ]
  },
  {
   "cell_type": "code",
   "execution_count": 4,
   "id": "8a587ff6",
   "metadata": {},
   "outputs": [
    {
     "name": "stderr",
     "output_type": "stream",
     "text": [
      "Learning Fragments: 100%|████████████████████████████████████████████████████████████████████████████████████████████████████████████| 1000/1000 [00:04<00:00, 240.89it/s]\n"
     ]
    }
   ],
   "source": [
    "# Fit the sprinkler data\n",
    "learner.fit(data, feature_states, collapse=True)"
   ]
  },
  {
   "cell_type": "markdown",
   "id": "b8c62084",
   "metadata": {},
   "source": [
    "Let's analyze first the fitted final fused and collapse BKB. We turned off the source nodes for easier viewing but the graph is mutually exclusive and this can be checked by rendering with sources turned on or inspecting the BKB json."
   ]
  },
  {
   "cell_type": "code",
   "execution_count": 6,
   "id": "a985e54e",
   "metadata": {},
   "outputs": [
    {
     "data": {
      "application/vnd.jupyter.widget-view+json": {
       "model_id": "7d32fea04eea465c96953094ce474107",
       "version_major": 2,
       "version_minor": 0
      },
      "text/plain": [
       "CytoscapeWidget(cytoscape_layout={'name': 'dagre', 'nodeSpacing': 10, 'edgeLengthVal': 10}, cytoscape_style=[{…"
      ]
     },
     "metadata": {},
     "output_type": "display_data"
    }
   ],
   "source": [
    "render(learner.learned_bkb, hide_sources=True, rv_only=True)"
   ]
  },
  {
   "cell_type": "markdown",
   "id": "f3477282",
   "metadata": {},
   "source": [
    "Let's see how this fusion took place by looking some of the different learned worlds of the problem. There are a total of 16 worlds supported by the sprinkler dataset and our algorithm learns the best structure in each of these worlds."
   ]
  },
  {
   "cell_type": "code",
   "execution_count": 6,
   "id": "86fda9f6",
   "metadata": {},
   "outputs": [
    {
     "data": {
      "application/vnd.jupyter.widget-view+json": {
       "model_id": "ed8be1b38e6647a8869868e8ef330abe",
       "version_major": 2,
       "version_minor": 0
      },
      "text/plain": [
       "CytoscapeWidget(cytoscape_layout={'name': 'dagre', 'nodeSpacing': 10, 'edgeLengthVal': 10}, cytoscape_style=[{…"
      ]
     },
     "metadata": {},
     "output_type": "display_data"
    }
   ],
   "source": [
    "render(learner.bkfs[0])"
   ]
  },
  {
   "cell_type": "code",
   "execution_count": 11,
   "id": "0ddc85eb",
   "metadata": {},
   "outputs": [
    {
     "data": {
      "application/vnd.jupyter.widget-view+json": {
       "model_id": "17336559d6d3407b8317bb9d04d9ca7b",
       "version_major": 2,
       "version_minor": 0
      },
      "text/plain": [
       "CytoscapeWidget(cytoscape_layout={'name': 'dagre', 'nodeSpacing': 10, 'edgeLengthVal': 10}, cytoscape_style=[{…"
      ]
     },
     "metadata": {},
     "output_type": "display_data"
    }
   ],
   "source": [
    "render(learner.bkfs[1])"
   ]
  },
  {
   "cell_type": "code",
   "execution_count": 12,
   "id": "43968f58",
   "metadata": {},
   "outputs": [
    {
     "data": {
      "application/vnd.jupyter.widget-view+json": {
       "model_id": "183e03ff824c48229999d2b1dc6c584d",
       "version_major": 2,
       "version_minor": 0
      },
      "text/plain": [
       "CytoscapeWidget(cytoscape_layout={'name': 'dagre', 'nodeSpacing': 10, 'edgeLengthVal': 10}, cytoscape_style=[{…"
      ]
     },
     "metadata": {},
     "output_type": "display_data"
    }
   ],
   "source": [
    "render(learner.bkfs[2])"
   ]
  },
  {
   "cell_type": "code",
   "execution_count": 16,
   "id": "bdb3f9f3",
   "metadata": {},
   "outputs": [
    {
     "data": {
      "application/vnd.jupyter.widget-view+json": {
       "model_id": "ebf3c99ece3c435198c9bde97ddc255d",
       "version_major": 2,
       "version_minor": 0
      },
      "text/plain": [
       "CytoscapeWidget(cytoscape_layout={'name': 'dagre', 'nodeSpacing': 10, 'edgeLengthVal': 10}, cytoscape_style=[{…"
      ]
     },
     "metadata": {},
     "output_type": "display_data"
    }
   ],
   "source": [
    "render(learner.bkfs[6])"
   ]
  },
  {
   "cell_type": "code",
   "execution_count": 20,
   "id": "092e019c",
   "metadata": {},
   "outputs": [
    {
     "data": {
      "application/vnd.jupyter.widget-view+json": {
       "model_id": "5af054ba121442b4aaa57aa06f64a40a",
       "version_major": 2,
       "version_minor": 0
      },
      "text/plain": [
       "CytoscapeWidget(cytoscape_layout={'name': 'dagre', 'nodeSpacing': 10, 'edgeLengthVal': 10}, cytoscape_style=[{…"
      ]
     },
     "metadata": {},
     "output_type": "display_data"
    }
   ],
   "source": [
    "render(learner.bkfs[10])"
   ]
  },
  {
   "cell_type": "code",
   "execution_count": 23,
   "id": "0f8a73c2",
   "metadata": {},
   "outputs": [
    {
     "data": {
      "application/vnd.jupyter.widget-view+json": {
       "model_id": "cc6a5751429e4f3e9bab7cf9525ca8c1",
       "version_major": 2,
       "version_minor": 0
      },
      "text/plain": [
       "CytoscapeWidget(cytoscape_layout={'name': 'dagre', 'nodeSpacing': 10, 'edgeLengthVal': 10}, cytoscape_style=[{…"
      ]
     },
     "metadata": {},
     "output_type": "display_data"
    }
   ],
   "source": [
    "render(learner.bkfs[13])"
   ]
  },
  {
   "cell_type": "code",
   "execution_count": null,
   "id": "03960904",
   "metadata": {},
   "outputs": [],
   "source": []
  }
 ],
 "metadata": {
  "kernelspec": {
   "display_name": "pybkb_venv",
   "language": "python",
   "name": "pybkb_venv"
  },
  "language_info": {
   "codemirror_mode": {
    "name": "ipython",
    "version": 3
   },
   "file_extension": ".py",
   "mimetype": "text/x-python",
   "name": "python",
   "nbconvert_exporter": "python",
   "pygments_lexer": "ipython3",
   "version": "3.8.4"
  }
 },
 "nbformat": 4,
 "nbformat_minor": 5
}
